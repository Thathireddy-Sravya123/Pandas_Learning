{
  "nbformat": 4,
  "nbformat_minor": 0,
  "metadata": {
    "colab": {
      "provenance": [],
      "authorship_tag": "ABX9TyN2EwXORbKJQ+YEEU/C3lMx",
      "include_colab_link": true
    },
    "kernelspec": {
      "name": "python3",
      "display_name": "Python 3"
    },
    "language_info": {
      "name": "python"
    }
  },
  "cells": [
    {
      "cell_type": "markdown",
      "metadata": {
        "id": "view-in-github",
        "colab_type": "text"
      },
      "source": [
        "<a href=\"https://colab.research.google.com/github/Thathireddy-Sravya123/Pandas_Learning/blob/main/Algorithms.ipynb\" target=\"_parent\"><img src=\"https://colab.research.google.com/assets/colab-badge.svg\" alt=\"Open In Colab\"/></a>"
      ]
    },
    {
      "cell_type": "markdown",
      "source": [
        "**BUBBLE SORT**"
      ],
      "metadata": {
        "id": "wa90rzexmEg7"
      }
    },
    {
      "cell_type": "code",
      "execution_count": null,
      "metadata": {
        "colab": {
          "base_uri": "https://localhost:8080/"
        },
        "id": "svKvwMnmiZbH",
        "outputId": "0b8045de-5a0e-4082-9f56-19b0fd3015cb"
      },
      "outputs": [
        {
          "output_type": "stream",
          "name": "stdout",
          "text": [
            "Sorted array is: [1, 2, 3, 4, 5, 6, 7, 8]\n"
          ]
        }
      ],
      "source": [
        "def bubble_sort(arr):\n",
        "    n = len(arr)\n",
        "    # Traverse through all array elements\n",
        "    for i in range(n):\n",
        "        # Last i elements are already in place\n",
        "        for j in range(0, n-i-1):\n",
        "            # Traverse the array from 0 to n-i-1\n",
        "            # Swap if the element found is greater than the next element\n",
        "            if arr[j] > arr[j+1] :\n",
        "                arr[j], arr[j+1] = arr[j+1], arr[j]\n",
        "    return arr\n",
        "\n",
        "\n",
        "arr = [5, 2, 7, 3, 1, 8, 6, 4]\n",
        "\n",
        "a = bubble_sort(arr)\n",
        "print(\"Sorted array is:\",arr)\n"
      ]
    },
    {
      "cell_type": "markdown",
      "source": [
        "**SHORT WAY FOR BUBBLE SORT**"
      ],
      "metadata": {
        "id": "ifrRt4FcqYK2"
      }
    },
    {
      "cell_type": "code",
      "source": [
        "numbers = [5, 2, 7, 3, 1, 8, 6, 4]\n",
        "numbers.sort()\n",
        "print(numbers)"
      ],
      "metadata": {
        "colab": {
          "base_uri": "https://localhost:8080/"
        },
        "id": "qIhL5pknqclI",
        "outputId": "943a2fe0-81e9-473f-eea5-cbe2111b67f4"
      },
      "execution_count": null,
      "outputs": [
        {
          "output_type": "stream",
          "name": "stdout",
          "text": [
            "[1, 2, 3, 4, 5, 6, 7, 8]\n"
          ]
        }
      ]
    },
    {
      "cell_type": "markdown",
      "source": [
        "**LINEAR SEARCH**\n",
        "\n",
        "Here's how it works:\n",
        "\n",
        "1. Start at the beginning of the data set.\n",
        "\n",
        "2. Compare the first element with the target element being searched for.\n",
        "\n",
        "3. If the target is found, return the index of the element.\n",
        "\n",
        "4. If the target is not found, move to the next element in the data set and repeat steps 2 and 3 until the target is found or the end of the data set is reached."
      ],
      "metadata": {
        "id": "AWmJLrHdmM9g"
      }
    },
    {
      "cell_type": "code",
      "source": [
        "def linear_search(data, target):\n",
        "    # Loop over each element in the list of data\n",
        "    for i in range(len(data)):\n",
        "        # If the current element is equal to the target value, return the index of the element\n",
        "        if data[i] == target:\n",
        "          return i\n",
        "    # If the target value is not found in the list of data, return -1\n",
        "    return -1\n",
        "\n",
        "data = list(map(int, input(\"Enter the list of data, separated by spaces: \").split()))\n",
        "\n",
        "target = int(input(\"Enter the target value: \"))\n",
        "\n",
        "linear_search(data, target)"
      ],
      "metadata": {
        "id": "HYc3GpEliiY4"
      },
      "execution_count": null,
      "outputs": []
    },
    {
      "cell_type": "markdown",
      "source": [
        "**SHORT WAY FOR LINEAR SEARCH**"
      ],
      "metadata": {
        "id": "ycmyLntYqsrk"
      }
    },
    {
      "cell_type": "code",
      "source": [
        "my_list = [1, 2, 3, 4, 5]\n",
        "if 3 in my_list:\n",
        "    print(\"Element found!\")\n",
        "else:\n",
        "    print(\"Element not found.\")"
      ],
      "metadata": {
        "colab": {
          "base_uri": "https://localhost:8080/"
        },
        "id": "LDH6rMDTqyQG",
        "outputId": "ec04ad24-ebe6-4e80-a49c-2698afc3b91a"
      },
      "execution_count": null,
      "outputs": [
        {
          "output_type": "stream",
          "name": "stdout",
          "text": [
            "Element found!\n"
          ]
        }
      ]
    },
    {
      "cell_type": "markdown",
      "source": [
        "**SELECTION SORT**\n",
        "\n",
        "Selection Sort better than Bubble Sort because :  \n",
        "\n",
        "1. In Bubble Sort it takes more swaping it means it is consuming more CPU Power.\n",
        "So to overcome it we are using Selection sort."
      ],
      "metadata": {
        "id": "XlUzzEStrrM-"
      }
    },
    {
      "cell_type": "code",
      "source": [
        "def selection_sort(arr):\n",
        "    n = len(arr)\n",
        "\n",
        "    for i in range(n-1):\n",
        "        min_index = i\n",
        "\n",
        "        for j in range(i+1, n):\n",
        "            if arr[j] < arr[min_index]:\n",
        "                min_index = j\n",
        "\n",
        "        arr[i], arr[min_index] = arr[min_index], arr[i]\n",
        "    return arr\n",
        "\n",
        "arr = [5, 3, 4, 1, 2]\n",
        "print(\"Given array:\", arr)\n",
        "\n",
        "sorted_arr = selection_sort(arr)\n",
        "\n",
        "print(\"Sorted array is:\", sorted_arr)\n"
      ],
      "metadata": {
        "colab": {
          "base_uri": "https://localhost:8080/"
        },
        "id": "VZ2glXj8q7e0",
        "outputId": "60e8375c-e2b0-428d-a19e-25f5cc2243f9"
      },
      "execution_count": null,
      "outputs": [
        {
          "output_type": "stream",
          "name": "stdout",
          "text": [
            "Given array: [5, 3, 4, 1, 2]\n",
            "Sorted array is: [1, 2, 3, 4, 5]\n"
          ]
        }
      ]
    },
    {
      "cell_type": "markdown",
      "source": [
        "**MERGE SORT** : Divide and Conquer"
      ],
      "metadata": {
        "id": "wYtLUfXG43P9"
      }
    },
    {
      "cell_type": "code",
      "source": [
        "def merge_sort(arr):\n",
        "    if len(arr) <= 1:\n",
        "        return arr\n",
        "\n",
        "    mid = len(arr) // 2\n",
        "    left_half = arr[:mid]\n",
        "    right_half = arr[mid:]\n",
        "\n",
        "    # Recursively call merge_sort on each half\n",
        "    left_half = merge_sort(left_half)\n",
        "    right_half = merge_sort(right_half)\n",
        "\n",
        "    # Merge the two sorted halves\n",
        "    i = j = 0\n",
        "    merged_arr = []\n",
        "    while i < len(left_half) and j < len(right_half):\n",
        "        # Compare the first element of each half and add the smaller one to the merged array\n",
        "        if left_half[i] < right_half[j]:\n",
        "            merged_arr.append(left_half[i])\n",
        "            i += 1\n",
        "        else:\n",
        "            merged_arr.append(right_half[j])\n",
        "            j += 1\n",
        "\n",
        "    # Append any remaining elements from the left or right halves to the merged array\n",
        "    merged_arr += left_half[i:]\n",
        "    merged_arr += right_half[j:]\n",
        "\n",
        "    return merged_arr\n",
        "\n",
        "arr = [64, 25, 12, 22, 11]\n",
        "sorted_arr = merge_sort(arr)\n",
        "print(\"Sorted array is:\", sorted_arr)\n"
      ],
      "metadata": {
        "id": "OHDf45FM1fcH"
      },
      "execution_count": null,
      "outputs": []
    },
    {
      "cell_type": "code",
      "source": [],
      "metadata": {
        "id": "nRWh4orn5hyI"
      },
      "execution_count": null,
      "outputs": []
    }
  ]
}